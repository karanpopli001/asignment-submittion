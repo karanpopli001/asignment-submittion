{
  "nbformat": 4,
  "nbformat_minor": 0,
  "metadata": {
    "colab": {
      "name": "assignment day 1 karan popli",
      "provenance": [],
      "collapsed_sections": [],
      "authorship_tag": "ABX9TyMe0zbm+WrDM6oCkkLgkS4x",
      "include_colab_link": true
    },
    "kernelspec": {
      "name": "python3",
      "display_name": "Python 3"
    },
    "language_info": {
      "name": "python"
    }
  },
  "cells": [
    {
      "cell_type": "markdown",
      "metadata": {
        "id": "view-in-github",
        "colab_type": "text"
      },
      "source": [
        "<a href=\"https://colab.research.google.com/github/karanpopli001/asignment-submittion/blob/main/assignment_day_1_karan_popli.ipynb\" target=\"_parent\"><img src=\"https://colab.research.google.com/assets/colab-badge.svg\" alt=\"Open In Colab\"/></a>"
      ]
    },
    {
      "cell_type": "code",
      "metadata": {
        "colab": {
          "base_uri": "https://localhost:8080/"
        },
        "id": "iLXZE4bKh4Ck",
        "outputId": "913368e8-0e9d-4e6f-bceb-8323b6c805bb"
      },
      "source": [
        " x=2\n",
        " y=3\n",
        " two_cubed = x ** y\n",
        "\n",
        "print(two_cubed)"
      ],
      "execution_count": 9,
      "outputs": [
        {
          "output_type": "stream",
          "text": [
            "8\n"
          ],
          "name": "stdout"
        }
      ]
    },
    {
      "cell_type": "code",
      "metadata": {
        "id": "8gs4Q4Ceh_fs"
      },
      "source": [
        " "
      ],
      "execution_count": null,
      "outputs": []
    }
  ]
}